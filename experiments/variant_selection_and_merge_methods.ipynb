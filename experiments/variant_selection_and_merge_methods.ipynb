{
 "cells": [
  {
   "cell_type": "code",
   "execution_count": null,
   "outputs": [],
   "source": [
    "from variant_selection_and_merge_methods import run_experiment\n",
    "\n",
    "from process_optimizer import __ProcessOptimizerBase\n",
    "\n",
    "from itertools import product, repeat, chain\n",
    "\n",
    "import pandas\n",
    "import numpy\n",
    "import multiprocessing\n",
    "import time"
   ],
   "metadata": {
    "collapsed": false,
    "pycharm": {
     "name": "#%%\n"
    }
   }
  },
  {
   "cell_type": "code",
   "execution_count": null,
   "outputs": [],
   "source": [
    "experiment_folder = '../experiment_data'\n",
    "results_folder = '../experiment_results'"
   ],
   "metadata": {
    "collapsed": false,
    "pycharm": {
     "name": "#%%\n"
    }
   }
  },
  {
   "cell_type": "markdown",
   "source": [
    "# Subset run to show variance magnitudes"
   ],
   "metadata": {
    "collapsed": false,
    "pycharm": {
     "name": "#%% md\n"
    }
   }
  },
  {
   "cell_type": "code",
   "execution_count": null,
   "outputs": [],
   "source": [
    "tree_types = ['small_combinatory', 'large_combinatory']\n",
    "resource_types = ['average_and_time_cost_specialized_resources']\n",
    "rand_events = ['with_random_events']\n",
    "runs = ['0']\n",
    "variant_selection = [__ProcessOptimizerBase.ALL_VARIANTS, __ProcessOptimizerBase.REQUIRED_VARIANTS, __ProcessOptimizerBase.MIN_REQUIRED_VARIANTS]\n",
    "merge_method = [__ProcessOptimizerBase.HIGHEST_COUNT_MERGE, __ProcessOptimizerBase.WEIGHTED_AVERAGE_MERGE, __ProcessOptimizerBase.PARETO_MERGE]\n",
    "num_of_experiments = 10"
   ],
   "metadata": {
    "collapsed": false,
    "pycharm": {
     "name": "#%%\n"
    }
   }
  },
  {
   "cell_type": "code",
   "execution_count": null,
   "outputs": [],
   "source": [
    "exp_setup_list_size = len(list(product(tree_types, resource_types, rand_events, runs, variant_selection, merge_method)))\n",
    "print(f'Experiment setup size: {exp_setup_list_size}\\tTotal run size: {exp_setup_list_size * num_of_experiments}')"
   ],
   "metadata": {
    "collapsed": false,
    "pycharm": {
     "name": "#%%\n"
    }
   }
  },
  {
   "cell_type": "code",
   "execution_count": null,
   "outputs": [],
   "source": [
    "start_time = time.perf_counter()\n",
    "\n",
    "pool = multiprocessing.Pool(10)\n",
    "res_subset = list(chain.from_iterable(pool.starmap(run_experiment, zip(repeat(experiment_folder), repeat(num_of_experiments), product(tree_types, resource_types, rand_events, runs, variant_selection, merge_method)))))\n",
    "\n",
    "pool.close()\n",
    "pool.join()\n",
    "end_time = time.perf_counter()"
   ],
   "metadata": {
    "collapsed": false,
    "pycharm": {
     "name": "#%%\n"
    }
   }
  },
  {
   "cell_type": "code",
   "execution_count": null,
   "outputs": [],
   "source": [
    "end_time - start_time"
   ],
   "metadata": {
    "collapsed": false,
    "pycharm": {
     "name": "#%%\n"
    }
   }
  },
  {
   "cell_type": "code",
   "execution_count": null,
   "outputs": [],
   "source": [
    "df_subset = pandas.DataFrame(data=res_subset)"
   ],
   "metadata": {
    "collapsed": false,
    "pycharm": {
     "name": "#%%\n"
    }
   }
  },
  {
   "cell_type": "code",
   "execution_count": null,
   "outputs": [],
   "source": [
    "df_subset"
   ],
   "metadata": {
    "collapsed": false,
    "pycharm": {
     "name": "#%%\n"
    }
   }
  },
  {
   "cell_type": "code",
   "execution_count": null,
   "outputs": [],
   "source": [
    "files = df_subset['file'].unique()\n",
    "variants = df_subset['variant_selection'].unique()\n",
    "merges = df_subset['merging_methods'].unique()\n",
    "opt_methods = df_subset['opt_method'].unique()"
   ],
   "metadata": {
    "collapsed": false,
    "pycharm": {
     "name": "#%%\n"
    }
   }
  },
  {
   "cell_type": "code",
   "execution_count": null,
   "outputs": [],
   "source": [
    "len(list(product(files, variants, merges, opt_methods)))"
   ],
   "metadata": {
    "collapsed": false,
    "pycharm": {
     "name": "#%%\n"
    }
   }
  },
  {
   "cell_type": "code",
   "execution_count": null,
   "outputs": [],
   "source": [
    "mean_std_cost = list()\n",
    "mean_std_time = list()\n",
    "mean_std_runtime = list()\n",
    "\n",
    "mean_se_cost = list()\n",
    "mean_se_time = list()\n",
    "mean_se_runtime = list()\n",
    "\n",
    "for comb in product(files, variants, merges, opt_methods):\n",
    "    target_frame = df_subset.loc[(df_subset['file'] == comb[0]) & (df_subset['variant_selection'] == comb[1]) & (df_subset['merging_methods'] == comb[2]) & (df_subset['opt_method'] == comb[3])]\n",
    "    len_target_frame = len(target_frame)\n",
    "\n",
    "    standard_deviation_time = target_frame[\"time_mean\"].std()\n",
    "    standard_deviation_cost = target_frame[\"cost_mean\"].std()\n",
    "    standard_deviation_run_time = target_frame[\"run_time\"].std()\n",
    "\n",
    "    standard_error_time = target_frame[\"time_mean\"].std()/numpy.sqrt(len_target_frame)\n",
    "    standard_error_cost = target_frame[\"cost_mean\"].std()/numpy.sqrt(len_target_frame)\n",
    "    standard_error_run_time = target_frame[\"run_time\"].std()/numpy.sqrt(len_target_frame)\n",
    "\n",
    "    print(f'F:{comb[0]}\\tV:{comb[1]}\\tM:{comb[2]}\\tO:{comb[3]}')\n",
    "    print(f'MT:{target_frame[\"time_mean\"].mean():.3f}\\tMC:{target_frame[\"cost_mean\"].mean():.3f}\\tMRT:{target_frame[\"run_time\"].mean():.3f}')\n",
    "    print(f'ST:{standard_deviation_time:.3f}\\tSC:{standard_deviation_cost:.3f}\\tSRT:{standard_deviation_run_time:.3f}\\n')\n",
    "    print(f'SET:{standard_error_time:.3f}\\tSEC:{standard_error_cost:.3f}\\tSERT:{standard_error_run_time:.3f}\\n')\n",
    "\n",
    "    mean_std_cost.append(standard_deviation_time)\n",
    "    mean_std_time.append(standard_deviation_cost)\n",
    "    mean_std_runtime.append(standard_deviation_run_time)\n",
    "\n",
    "    mean_se_cost.append(standard_error_time)\n",
    "    mean_se_time.append(standard_error_cost)\n",
    "    mean_se_runtime.append(standard_error_run_time)"
   ],
   "metadata": {
    "collapsed": false,
    "pycharm": {
     "name": "#%%\n"
    }
   }
  },
  {
   "cell_type": "code",
   "execution_count": null,
   "outputs": [],
   "source": [
    "df_subset.loc[df_subset['variant_selection'] == 'All variants']['run_time'].mean()"
   ],
   "metadata": {
    "collapsed": false,
    "pycharm": {
     "name": "#%%\n"
    }
   }
  },
  {
   "cell_type": "code",
   "execution_count": null,
   "outputs": [],
   "source": [
    "df_subset.loc[df_subset['variant_selection'] == 'Required variants']['run_time'].mean()"
   ],
   "metadata": {
    "collapsed": false,
    "pycharm": {
     "name": "#%%\n"
    }
   }
  },
  {
   "cell_type": "code",
   "execution_count": null,
   "outputs": [],
   "source": [
    "df_subset.loc[df_subset['variant_selection'] == 'Min required variants']['run_time'].mean()"
   ],
   "metadata": {
    "collapsed": false,
    "pycharm": {
     "name": "#%%\n"
    }
   }
  },
  {
   "cell_type": "code",
   "execution_count": null,
   "outputs": [],
   "source": [
    "mean_std_runtime"
   ],
   "metadata": {
    "collapsed": false,
    "pycharm": {
     "name": "#%%\n"
    }
   }
  },
  {
   "cell_type": "code",
   "execution_count": null,
   "outputs": [],
   "source": [
    "print(f'MST:{numpy.mean(mean_std_time):.3f}\\tMSC:{numpy.mean(mean_std_cost):.3f}\\tMSRT:{numpy.mean(mean_std_runtime):.3f}')"
   ],
   "metadata": {
    "collapsed": false,
    "pycharm": {
     "name": "#%%\n"
    }
   }
  },
  {
   "cell_type": "code",
   "execution_count": null,
   "outputs": [],
   "source": [
    "print(f'MSET:{numpy.mean(mean_se_cost):.3f}\\tMSEC:{numpy.mean(mean_se_time):.3f}\\tMSERT:{numpy.mean(mean_se_runtime):.3f}')"
   ],
   "metadata": {
    "collapsed": false,
    "pycharm": {
     "name": "#%%\n"
    }
   }
  },
  {
   "cell_type": "code",
   "execution_count": null,
   "outputs": [],
   "source": [
    "df_subset.to_excel(f'{results_folder}/variant_selection_and_merge_methods_subset_run.xlsx', index=False)"
   ],
   "metadata": {
    "collapsed": false,
    "pycharm": {
     "name": "#%%\n"
    }
   }
  },
  {
   "cell_type": "markdown",
   "source": [
    "# Full run without repetition"
   ],
   "metadata": {
    "collapsed": false,
    "pycharm": {
     "name": "#%% md\n"
    }
   }
  },
  {
   "cell_type": "code",
   "execution_count": null,
   "outputs": [],
   "source": [
    "tree_types = ['loops_only', 'parallel_only', 'xor_choice_only', 'small_combinatory', 'large_combinatory']\n",
    "resource_types = ['average_resources', 'average_and_time_cost_specialized_resources']\n",
    "rand_events = ['with_random_events', 'without_random_events']\n",
    "runs = ['0', '1', '2']\n",
    "variant_selection = [__ProcessOptimizerBase.ALL_VARIANTS, __ProcessOptimizerBase.REQUIRED_VARIANTS, __ProcessOptimizerBase.MIN_REQUIRED_VARIANTS]\n",
    "merge_method = [__ProcessOptimizerBase.HIGHEST_COUNT_MERGE, __ProcessOptimizerBase.WEIGHTED_AVERAGE_MERGE, __ProcessOptimizerBase.PARETO_MERGE]\n",
    "num_of_experiments = 1"
   ],
   "metadata": {
    "collapsed": false,
    "pycharm": {
     "name": "#%%\n"
    }
   }
  },
  {
   "cell_type": "code",
   "execution_count": null,
   "outputs": [],
   "source": [
    "exp_setup_list_size = len(list(product(tree_types, resource_types, rand_events, runs, variant_selection, merge_method)))\n",
    "print(f'Experiment setup size: {exp_setup_list_size}\\tTotal run size: {exp_setup_list_size * num_of_experiments}')"
   ],
   "metadata": {
    "collapsed": false,
    "pycharm": {
     "name": "#%%\n"
    }
   }
  },
  {
   "cell_type": "code",
   "execution_count": null,
   "outputs": [],
   "source": [
    "start_time = time.perf_counter()\n",
    "\n",
    "pool = multiprocessing.Pool(10)\n",
    "res_full = list(chain.from_iterable(pool.starmap(run_experiment, zip(repeat(experiment_folder), repeat(num_of_experiments), product(tree_types, resource_types, rand_events, runs, variant_selection, merge_method)))))\n",
    "\n",
    "pool.close()\n",
    "pool.join()\n",
    "end_time = time.perf_counter()"
   ],
   "metadata": {
    "collapsed": false,
    "pycharm": {
     "name": "#%%\n",
     "is_executing": true
    }
   }
  },
  {
   "cell_type": "code",
   "execution_count": null,
   "outputs": [],
   "source": [
    "df_full = pandas.DataFrame(data=res_full)"
   ],
   "metadata": {
    "collapsed": false,
    "pycharm": {
     "name": "#%%\n",
     "is_executing": true
    }
   }
  },
  {
   "cell_type": "code",
   "execution_count": null,
   "outputs": [],
   "source": [
    "df_full['rep'] = 2"
   ],
   "metadata": {
    "collapsed": false,
    "pycharm": {
     "name": "#%%\n",
     "is_executing": true
    }
   }
  },
  {
   "cell_type": "code",
   "execution_count": null,
   "outputs": [],
   "source": [
    "df_full.to_excel(f'{results_folder}/variant_selection_and_merge_methods_full_run_3.xlsx', index=False)"
   ],
   "metadata": {
    "collapsed": false,
    "pycharm": {
     "name": "#%%\n",
     "is_executing": true
    }
   }
  },
  {
   "cell_type": "code",
   "execution_count": null,
   "outputs": [],
   "source": [
    "end_time - start_time"
   ],
   "metadata": {
    "collapsed": false,
    "pycharm": {
     "name": "#%%\n"
    }
   }
  },
  {
   "cell_type": "code",
   "execution_count": null,
   "outputs": [],
   "source": [
    "df_full"
   ],
   "metadata": {
    "collapsed": false,
    "pycharm": {
     "name": "#%%\n"
    }
   }
  },
  {
   "cell_type": "code",
   "execution_count": null,
   "outputs": [],
   "source": [],
   "metadata": {
    "collapsed": false,
    "pycharm": {
     "name": "#%%\n"
    }
   }
  }
 ],
 "metadata": {
  "kernelspec": {
   "display_name": "Python 3",
   "language": "python",
   "name": "python3"
  },
  "language_info": {
   "codemirror_mode": {
    "name": "ipython",
    "version": 2
   },
   "file_extension": ".py",
   "mimetype": "text/x-python",
   "name": "python",
   "nbconvert_exporter": "python",
   "pygments_lexer": "ipython2",
   "version": "2.7.6"
  }
 },
 "nbformat": 4,
 "nbformat_minor": 0
}