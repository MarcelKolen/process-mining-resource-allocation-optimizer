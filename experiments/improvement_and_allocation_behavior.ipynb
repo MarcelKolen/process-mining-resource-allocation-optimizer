{
 "cells": [
  {
   "cell_type": "code",
   "execution_count": null,
   "outputs": [],
   "source": [
    "from improvement_and_allocation_behavior import run_experiment\n",
    "\n",
    "from process_optimizer import __ProcessOptimizerBase\n",
    "\n",
    "from itertools import product, repeat, chain\n",
    "\n",
    "import pandas\n",
    "import numpy\n",
    "import multiprocessing\n",
    "import time"
   ],
   "metadata": {
    "collapsed": false,
    "pycharm": {
     "name": "#%%\n"
    }
   }
  },
  {
   "cell_type": "code",
   "execution_count": null,
   "outputs": [],
   "source": [
    "experiment_folder = '../experiment_data'\n",
    "results_folder = '../experiment_results'"
   ],
   "metadata": {
    "collapsed": false,
    "pycharm": {
     "name": "#%%\n"
    }
   }
  },
  {
   "cell_type": "code",
   "execution_count": null,
   "outputs": [],
   "source": [
    "tree_types = ['small_combinatory']\n",
    "resource_types = ['average_resources', 'average_and_time_cost_specialized_resources']\n",
    "rand_events = ['without_random_events']\n",
    "runs = ['0', '1', '2']\n",
    "variant_selection = [__ProcessOptimizerBase.REQUIRED_VARIANTS]\n",
    "merge_method = [__ProcessOptimizerBase.HIGHEST_COUNT_MERGE]\n",
    "compromise_allowances = [0.3, 0.5, 0.7]\n",
    "num_of_experiments = 10"
   ],
   "metadata": {
    "collapsed": false,
    "pycharm": {
     "name": "#%%\n"
    }
   }
  },
  {
   "cell_type": "code",
   "execution_count": null,
   "outputs": [],
   "source": [
    "# tree_types = ['small_combinatory']\n",
    "# resource_types = ['average_resources', 'average_and_time_cost_specialized_resources']\n",
    "# rand_events = ['without_random_events']\n",
    "# runs = ['0']\n",
    "# variant_selection = [__ProcessOptimizerBase.REQUIRED_VARIANTS]\n",
    "# merge_method = [__ProcessOptimizerBase.HIGHEST_COUNT_MERGE]\n",
    "# compromise_allowances = [0.3,]\n",
    "# num_of_experiments = 1"
   ],
   "metadata": {
    "collapsed": false,
    "pycharm": {
     "name": "#%%\n"
    }
   }
  },
  {
   "cell_type": "code",
   "execution_count": null,
   "outputs": [],
   "source": [
    "exp_setup_list_size = len(list(product(tree_types, resource_types, rand_events, runs, variant_selection, merge_method, compromise_allowances)))\n",
    "print(f'Experiment setup size: {exp_setup_list_size}\\tTotal run size: {exp_setup_list_size * num_of_experiments}')"
   ],
   "metadata": {
    "collapsed": false,
    "pycharm": {
     "name": "#%%\n"
    }
   }
  },
  {
   "cell_type": "code",
   "execution_count": null,
   "outputs": [],
   "source": [
    "start_time = time.perf_counter()\n",
    "\n",
    "pool = multiprocessing.Pool(10)\n",
    "res_full = list(chain.from_iterable(pool.starmap(run_experiment, zip(repeat(experiment_folder), repeat(num_of_experiments), product(tree_types, resource_types, rand_events, runs, variant_selection, merge_method, compromise_allowances)))))\n",
    "\n",
    "pool.close()\n",
    "pool.join()\n",
    "end_time = time.perf_counter()"
   ],
   "metadata": {
    "collapsed": false,
    "pycharm": {
     "name": "#%%\n"
    }
   }
  },
  {
   "cell_type": "code",
   "execution_count": null,
   "outputs": [],
   "source": [
    "end_time - start_time"
   ],
   "metadata": {
    "collapsed": false,
    "pycharm": {
     "name": "#%%\n"
    }
   }
  },
  {
   "cell_type": "code",
   "execution_count": null,
   "outputs": [],
   "source": [
    "df_full = pandas.DataFrame(data=res_full)"
   ],
   "metadata": {
    "collapsed": false,
    "pycharm": {
     "name": "#%%\n"
    }
   }
  },
  {
   "cell_type": "code",
   "execution_count": null,
   "outputs": [],
   "source": [
    "df_full"
   ],
   "metadata": {
    "collapsed": false,
    "pycharm": {
     "name": "#%%\n"
    }
   }
  },
  {
   "cell_type": "code",
   "execution_count": null,
   "outputs": [],
   "source": [
    "df_full.to_excel(f'{results_folder}/improvement_and_allocation_behavior.xlsx', index=False)"
   ],
   "metadata": {
    "collapsed": false,
    "pycharm": {
     "name": "#%%\n"
    }
   }
  },
  {
   "cell_type": "code",
   "execution_count": null,
   "outputs": [],
   "source": [],
   "metadata": {
    "collapsed": false,
    "pycharm": {
     "name": "#%%\n"
    }
   }
  }
 ],
 "metadata": {
  "kernelspec": {
   "display_name": "Python 3",
   "language": "python",
   "name": "python3"
  },
  "language_info": {
   "codemirror_mode": {
    "name": "ipython",
    "version": 2
   },
   "file_extension": ".py",
   "mimetype": "text/x-python",
   "name": "python",
   "nbconvert_exporter": "python",
   "pygments_lexer": "ipython2",
   "version": "2.7.6"
  }
 },
 "nbformat": 4,
 "nbformat_minor": 0
}