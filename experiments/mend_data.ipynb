{
 "cells": [
  {
   "cell_type": "code",
   "execution_count": null,
   "outputs": [],
   "source": [
    "from variant_selection_and_merge_methods import run_experiment\n",
    "\n",
    "from process_optimizer import __ProcessOptimizerBase\n",
    "\n",
    "from itertools import product, repeat, chain\n",
    "\n",
    "import pandas\n",
    "import numpy\n",
    "import multiprocessing\n",
    "import time"
   ],
   "metadata": {
    "collapsed": false,
    "pycharm": {
     "name": "#%%\n"
    }
   }
  },
  {
   "cell_type": "code",
   "execution_count": null,
   "outputs": [],
   "source": [
    "experiment_folder = '../experiment_data'\n",
    "results_folder = '../experiment_results'"
   ],
   "metadata": {
    "collapsed": false,
    "pycharm": {
     "name": "#%%\n"
    }
   }
  },
  {
   "cell_type": "code",
   "execution_count": null,
   "outputs": [],
   "source": [
    "tree_types = ['loops_only', 'parallel_only', 'xor_choice_only', 'small_combinatory', 'large_combinatory']\n",
    "resource_types = ['average_resources', 'average_and_time_cost_specialized_resources']\n",
    "rand_events = ['with_random_events', 'without_random_events']\n",
    "runs = ['0', '1', '2']\n",
    "variant_selection = [__ProcessOptimizerBase.ALL_VARIANTS, __ProcessOptimizerBase.REQUIRED_VARIANTS, __ProcessOptimizerBase.MIN_REQUIRED_VARIANTS]\n",
    "merge_method = [__ProcessOptimizerBase.HIGHEST_COUNT_MERGE, __ProcessOptimizerBase.WEIGHTED_AVERAGE_MERGE, __ProcessOptimizerBase.PARETO_MERGE]\n",
    "num_of_experiments = 1"
   ],
   "metadata": {
    "collapsed": false,
    "pycharm": {
     "name": "#%%\n"
    }
   }
  },
  {
   "cell_type": "code",
   "execution_count": null,
   "outputs": [],
   "source": [
    "find_missing = pandas.read_excel(io=f'{results_folder}/variant_selection_and_merge_methods_full_run_no_rep_0.xlsx')\n",
    "find_missing"
   ],
   "metadata": {
    "collapsed": false,
    "pycharm": {
     "name": "#%%\n"
    }
   }
  },
  {
   "cell_type": "code",
   "execution_count": null,
   "outputs": [],
   "source": [
    "missing_combs = list()\n",
    "\n",
    "for comb in product(find_missing['tree'].unique(), list(find_missing['resource_set'].unique()), list(find_missing['rand_events'].unique()), list(find_missing['version'].unique()), list(find_missing['variant_selection'].unique()), list(find_missing['merging_methods'].unique()), list(find_missing['opt_method'].unique())):\n",
    "    if len(find_missing.loc[(find_missing['tree'] == comb[0]) & (find_missing['resource_set'] == comb[1]) & (find_missing['rand_events'] == comb[2]) & (find_missing['version'] == comb[3]) & (find_missing['variant_selection'] == comb[4]) & (find_missing['merging_methods'] == comb[5]) & (find_missing['opt_method'] == comb[6])]) < 1:\n",
    "        variants_select = None\n",
    "        merge = None\n",
    "\n",
    "        match comb[4]:\n",
    "            case 'Min required variants':\n",
    "                variants_select = __ProcessOptimizerBase.MIN_REQUIRED_VARIANTS\n",
    "            case 'All variants':\n",
    "                variants_select = __ProcessOptimizerBase.ALL_VARIANTS\n",
    "            case 'Required variants':\n",
    "                variants_select = __ProcessOptimizerBase.REQUIRED_VARIANTS\n",
    "\n",
    "        match comb[5]:\n",
    "            case 'Highest count merge':\n",
    "                merge = __ProcessOptimizerBase.HIGHEST_COUNT_MERGE\n",
    "            case 'Weighted average merge':\n",
    "                merge = __ProcessOptimizerBase.WEIGHTED_AVERAGE_MERGE\n",
    "            case 'Pareto merge':\n",
    "                merge = __ProcessOptimizerBase.PARETO_MERGE\n",
    "\n",
    "        missing_combs.append((comb[0], comb[1], comb[2], str(comb[3]), variants_select, merge, comb[6]))"
   ],
   "metadata": {
    "collapsed": false,
    "pycharm": {
     "name": "#%%\n"
    }
   }
  },
  {
   "cell_type": "code",
   "execution_count": null,
   "outputs": [],
   "source": [
    "start_time = time.perf_counter()\n",
    "\n",
    "pool = multiprocessing.Pool(10)\n",
    "res_remain = list(chain.from_iterable(pool.starmap(run_experiment, zip(repeat(experiment_folder), repeat(num_of_experiments), missing_combs))))\n",
    "\n",
    "pool.close()\n",
    "pool.join()\n",
    "end_time = time.perf_counter()"
   ],
   "metadata": {
    "collapsed": false,
    "pycharm": {
     "name": "#%%\n"
    }
   }
  },
  {
   "cell_type": "code",
   "execution_count": null,
   "outputs": [],
   "source": [
    "end_time - start_time"
   ],
   "metadata": {
    "collapsed": false,
    "pycharm": {
     "name": "#%%\n"
    }
   }
  },
  {
   "cell_type": "code",
   "execution_count": null,
   "outputs": [],
   "source": [
    "df_remain = pandas.DataFrame(data=res_remain)"
   ],
   "metadata": {
    "collapsed": false,
    "pycharm": {
     "name": "#%%\n"
    }
   }
  },
  {
   "cell_type": "code",
   "execution_count": null,
   "outputs": [],
   "source": [
    "final = find_missing.copy()\n",
    "\n",
    "for comb in product(find_missing['tree'].unique(), list(find_missing['resource_set'].unique()), list(find_missing['rand_events'].unique()), list(find_missing['version'].unique()), list(find_missing['variant_selection'].unique()), list(find_missing['merging_methods'].unique()), list(find_missing['opt_method'].unique())):\n",
    "    if len(find_missing.loc[(find_missing['tree'] == comb[0]) & (find_missing['resource_set'] == comb[1]) & (find_missing['rand_events'] == comb[2]) & (find_missing['version'] == comb[3]) & (find_missing['variant_selection'] == comb[4]) & (find_missing['merging_methods'] == comb[5]) & (find_missing['opt_method'] == comb[6])]) < 1:\n",
    "\n",
    "        if len(target := df_remain.loc[(df_remain['tree'] == comb[0]) & (df_remain['resource_set'] == comb[1]) & (df_remain['rand_events'] == comb[2]) & (df_remain['version'] == str(comb[3])) & (df_remain['variant_selection'] == comb[4]) & (df_remain['merging_methods'] == comb[5]) & (df_remain['opt_method'] == comb[6])]) > 0:\n",
    "\n",
    "            final = pandas.concat((final, target))\n",
    "        else:\n",
    "            final = pandas.concat((final, pandas.DataFrame(data={\n",
    "                'Unnamed: 0': [None],\n",
    "                'rep': [0],\n",
    "                'file': [f'model_{comb[0]}_{comb[1]}_{comb[2]}_{comb[3]}.xlsx'],\n",
    "                'tree': [comb[0]],\n",
    "                'resource_set': [comb[1]],\n",
    "                'rand_events': [comb[2]],\n",
    "                'version': [comb[3]],\n",
    "                'variant_selection': [comb[4]],\n",
    "                'merging_methods': [comb[5]],\n",
    "                'opt_method': [comb[6]],\n",
    "                'run_time': [None],\n",
    "                'time_mean': [None],\n",
    "                'time_min': [None],\n",
    "                'time_max': [None],\n",
    "                'cost_mean': [None],\n",
    "                'cost_min': [None],\n",
    "                'cost_max': [None],\n",
    "            })))"
   ],
   "metadata": {
    "collapsed": false,
    "pycharm": {
     "name": "#%%\n"
    }
   }
  },
  {
   "cell_type": "code",
   "execution_count": null,
   "outputs": [],
   "source": [
    "final.to_excel(f'{results_folder}/variant_selection_and_merge_methods_full_run_no_rep.xlsx', index=False)"
   ],
   "metadata": {
    "collapsed": false,
    "pycharm": {
     "name": "#%%\n"
    }
   }
  }
 ],
 "metadata": {
  "kernelspec": {
   "display_name": "Python 3",
   "language": "python",
   "name": "python3"
  },
  "language_info": {
   "codemirror_mode": {
    "name": "ipython",
    "version": 2
   },
   "file_extension": ".py",
   "mimetype": "text/x-python",
   "name": "python",
   "nbconvert_exporter": "python",
   "pygments_lexer": "ipython2",
   "version": "2.7.6"
  }
 },
 "nbformat": 4,
 "nbformat_minor": 0
}