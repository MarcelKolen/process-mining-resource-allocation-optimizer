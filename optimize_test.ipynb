{
 "cells": [
  {
   "cell_type": "code",
   "execution_count": null,
   "metadata": {
    "collapsed": true
   },
   "outputs": [],
   "source": [
    "from process_optimizer import ProcessOptimizerCPLEXMPLinear, ProcessOptimizerCPLEXCPLinear, ProcessOptimizerCPLEXCPPolynomial\n",
    "\n",
    "from test_optimization import get_min_max_average_time_and_cost_of_process, allocation_test, calc_linear_model, calc_polynomial_model\n",
    "\n",
    "from process_tree_miner import PMObject\n",
    "from activity_resource_mapper import ActivityResourceMapperLinear, ActivityResourceMapperPolynomial\n",
    "\n",
    "import time"
   ]
  },
  {
   "cell_type": "code",
   "execution_count": null,
   "outputs": [],
   "source": [
    "# pmo = PMObject(\"./Generated data\", \"Map1.csv\", delimiter=\";\")\n",
    "# pmo = PMObject(\"./experiment_data\", \"model_large_combinatory_average_and_time_cost_specialized_resources_with_random_events_2.xlsx\")\n",
    "# pmo = PMObject(\"./experiment_data\", \"model_small_combinatory_average_and_time_cost_specialized_resources_without_random_events_0.xlsx\")\n",
    "pmo = PMObject(\"./experiment_data\", \"model_small_combinatory_average_resources_without_random_events_0.xlsx\")\n",
    "# pmo = PMObject(\"./experiment_data\", \"model_large_combinatory_average_and_time_cost_specialized_resources_with_random_events_0.xlsx\")\n",
    "# pmo = PMObject(\"./experiment_data\", \"model_0_trace.xlsx\")\n",
    "# pmo(case_id_name=\"Case\", activity_name=\"Activity Name\", timestamp_name=\"Timestamp Start\")\n",
    "pmo(case_id_name=\"Case\", activity_name=\"Activity\", timestamp_name=\"Timestamp_start\")\n",
    "\n",
    "ARMl = ActivityResourceMapperLinear(pm_object=pmo, exhaustive_fit_on_best_degree=True)\n",
    "# ARMl()\n",
    "\n",
    "ARMp = ActivityResourceMapperPolynomial(pm_object=pmo, exhaustive_fit_on_best_degree=True)\n",
    "ARMp()"
   ],
   "metadata": {
    "collapsed": false,
    "pycharm": {
     "name": "#%%\n"
    }
   }
  },
  {
   "cell_type": "code",
   "execution_count": null,
   "outputs": [],
   "source": [
    "ARMp.act_res_map"
   ],
   "metadata": {
    "collapsed": false,
    "pycharm": {
     "name": "#%%\n"
    }
   }
  },
  {
   "cell_type": "code",
   "execution_count": null,
   "outputs": [],
   "source": [
    "ARMp.act_res_map.loc[ARMp.act_res_map['Resource'] == 'r_0']"
   ],
   "metadata": {
    "collapsed": false,
    "pycharm": {
     "name": "#%%\n"
    }
   }
  },
  {
   "cell_type": "code",
   "execution_count": null,
   "outputs": [],
   "source": [
    "pmo.generate_bpmn()\n",
    "pmo.show_bpmn()"
   ],
   "metadata": {
    "collapsed": false,
    "pycharm": {
     "name": "#%%\n"
    }
   }
  },
  {
   "cell_type": "code",
   "execution_count": null,
   "outputs": [],
   "source": [
    "pmo.el"
   ],
   "metadata": {
    "collapsed": false,
    "pycharm": {
     "name": "#%%\n"
    }
   }
  },
  {
   "cell_type": "code",
   "execution_count": null,
   "outputs": [],
   "source": [
    "pmo.get_process_variants()"
   ],
   "metadata": {
    "collapsed": false,
    "pycharm": {
     "name": "#%%\n"
    }
   }
  },
  {
   "cell_type": "markdown",
   "source": [
    "# Average performance of trace"
   ],
   "metadata": {
    "collapsed": false,
    "pycharm": {
     "name": "#%% md\n"
    }
   }
  },
  {
   "cell_type": "code",
   "execution_count": null,
   "outputs": [],
   "source": [
    "time_min, cost_min, time_max, cost_max, time_mean, cost_mean = get_min_max_average_time_and_cost_of_process(pmo, ARMl, 'Timestamp_end')\n",
    "print(f'Min Time: {time_min}\\tMin Cost: {cost_min}')\n",
    "print(f'Max Time: {time_max}\\tMax Cost: {cost_max}')\n",
    "print(f'Average Time: {time_mean}\\tAverage Cost: {cost_mean}')"
   ],
   "metadata": {
    "collapsed": false,
    "pycharm": {
     "name": "#%%\n"
    }
   }
  },
  {
   "cell_type": "markdown",
   "source": [
    "# Mathematical Programming Linear"
   ],
   "metadata": {
    "collapsed": false,
    "pycharm": {
     "name": "#%% md\n"
    }
   }
  },
  {
   "cell_type": "markdown",
   "source": [
    "## Cost"
   ],
   "metadata": {
    "collapsed": false,
    "pycharm": {
     "name": "#%% md\n"
    }
   }
  },
  {
   "cell_type": "code",
   "execution_count": null,
   "outputs": [],
   "source": [
    "po_mpl_cost = ProcessOptimizerCPLEXMPLinear(pm_object=pmo, ARM_object=ARMl)\n",
    "solutions_mpl_cost, generalized_solution_mpl_cost = po_mpl_cost()"
   ],
   "metadata": {
    "collapsed": false,
    "pycharm": {
     "name": "#%%\n"
    }
   }
  },
  {
   "cell_type": "code",
   "execution_count": null,
   "outputs": [],
   "source": [
    "time_min_mpl_cost, cost_min_mpl_cost, time_max_mpl_cost, cost_max_mpl_cost, time_mean_mpl_cost, cost_mean_mpl_cost = allocation_test(generalized_solution_mpl_cost, pmo, ARMl, calc_linear_model)\n",
    "print(f'Min Time: {time_min_mpl_cost}\\tMin Cost: {cost_min_mpl_cost}')\n",
    "print(f'Max Time: {time_max_mpl_cost}\\tMax Cost: {cost_max_mpl_cost}')\n",
    "print(f'Average Time: {time_mean_mpl_cost}\\tAverage Cost: {cost_mean_mpl_cost}')"
   ],
   "metadata": {
    "collapsed": false,
    "pycharm": {
     "name": "#%%\n"
    }
   }
  },
  {
   "cell_type": "markdown",
   "source": [
    "## Time"
   ],
   "metadata": {
    "collapsed": false,
    "pycharm": {
     "name": "#%% md\n"
    }
   }
  },
  {
   "cell_type": "code",
   "execution_count": null,
   "outputs": [],
   "source": [
    "po_mpl_time = ProcessOptimizerCPLEXMPLinear(pm_object=pmo, ARM_object=ARMl, objective=ProcessOptimizerCPLEXMPLinear.TIME_OBJECTIVE)\n",
    "solutions_mpl_time, generalized_solution_mpl_time = po_mpl_time()"
   ],
   "metadata": {
    "collapsed": false,
    "pycharm": {
     "name": "#%%\n"
    }
   }
  },
  {
   "cell_type": "code",
   "execution_count": null,
   "outputs": [],
   "source": [
    "time_min_mpl_time, cost_min_mpl_time, time_max_mpl_time, cost_max_mpl_time, time_mean_mpl_time, cost_mean_mpl_time = allocation_test(generalized_solution_mpl_time, pmo, ARMl, calc_linear_model)\n",
    "print(f'Min Time: {time_min_mpl_time}\\tMin Cost: {cost_min_mpl_time}')\n",
    "print(f'Max Time: {time_max_mpl_time}\\tMax Cost: {cost_max_mpl_time}')\n",
    "print(f'Average Time: {time_mean_mpl_time}\\tAverage Cost: {cost_mean_mpl_time}')"
   ],
   "metadata": {
    "collapsed": false,
    "pycharm": {
     "name": "#%%\n"
    }
   }
  },
  {
   "cell_type": "markdown",
   "source": [
    "## Cost First Time Constraint Multi Objective"
   ],
   "metadata": {
    "collapsed": false,
    "pycharm": {
     "name": "#%% md\n"
    }
   }
  },
  {
   "cell_type": "code",
   "execution_count": null,
   "outputs": [],
   "source": [
    "po_mpl_cost_time_c = ProcessOptimizerCPLEXMPLinear(pm_object=pmo, ARM_object=ARMl, objective=ProcessOptimizerCPLEXMPLinear.MULTI_OBJECTIVE_TIME_CONSTRAINT, compromise_allowance=0.3)\n",
    "solutions_mpl_cost_time_c, generalized_solution_mpl_cost_time_c = po_mpl_cost_time_c()"
   ],
   "metadata": {
    "collapsed": false,
    "pycharm": {
     "name": "#%%\n"
    }
   }
  },
  {
   "cell_type": "code",
   "execution_count": null,
   "outputs": [],
   "source": [
    "time_min_mpl_cost_time_c, cost_min_mpl_cost_time_c, time_max_mpl_cost_time_c, cost_max_mpl_cost_time_c, time_mean_mpl_cost_time_c, cost_mean_mpl_cost_time_c = allocation_test(generalized_solution_mpl_cost_time_c, pmo, ARMl, calc_linear_model)\n",
    "print(f'Min Time: {time_min_mpl_cost_time_c}\\tMin Cost: {cost_min_mpl_cost_time_c}')\n",
    "print(f'Max Time: {time_max_mpl_cost_time_c}\\tMax Cost: {cost_max_mpl_cost_time_c}')\n",
    "print(f'Average Time: {time_mean_mpl_cost_time_c}\\tAverage Cost: {cost_mean_mpl_cost_time_c}')"
   ],
   "metadata": {
    "collapsed": false,
    "pycharm": {
     "name": "#%%\n"
    }
   }
  },
  {
   "cell_type": "markdown",
   "source": [
    "# Constraint Programming Linear"
   ],
   "metadata": {
    "collapsed": false,
    "pycharm": {
     "name": "#%% md\n"
    }
   }
  },
  {
   "cell_type": "markdown",
   "source": [
    "## Cost"
   ],
   "metadata": {
    "collapsed": false,
    "pycharm": {
     "name": "#%% md\n"
    }
   }
  },
  {
   "cell_type": "code",
   "execution_count": null,
   "outputs": [],
   "source": [
    "po_cpl_cost = ProcessOptimizerCPLEXCPLinear(pm_object=pmo, ARM_object=ARMl)\n",
    "solutions_cpl_cost, generalized_solution_cpl_cost = po_cpl_cost(exec_file='/Applications/CPLEX_Studio221/cpoptimizer/bin/x86-64_osx/cpoptimizer') # Replace exec_file with appropriate path!!!"
   ],
   "metadata": {
    "collapsed": false,
    "pycharm": {
     "name": "#%%\n"
    }
   }
  },
  {
   "cell_type": "code",
   "execution_count": null,
   "outputs": [],
   "source": [
    "time_min_cpl_cost, cost_min_cpl_cost, time_max_cpl_cost, cost_max_cpl_cost, time_mean_cpl_cost, cost_mean_cpl_cost = allocation_test(generalized_solution_cpl_cost, pmo, ARMl, calc_linear_model)\n",
    "print(f'Min Time: {time_min_cpl_cost}\\tMin Cost: {cost_min_cpl_cost}')\n",
    "print(f'Max Time: {time_max_cpl_cost}\\tMax Cost: {cost_max_cpl_cost}')\n",
    "print(f'Average Time: {time_mean_cpl_cost}\\tAverage Cost: {cost_mean_cpl_cost}')"
   ],
   "metadata": {
    "collapsed": false,
    "pycharm": {
     "name": "#%%\n"
    }
   }
  },
  {
   "cell_type": "markdown",
   "source": [
    "## Time"
   ],
   "metadata": {
    "collapsed": false,
    "pycharm": {
     "name": "#%% md\n"
    }
   }
  },
  {
   "cell_type": "code",
   "execution_count": null,
   "outputs": [],
   "source": [
    "po_cpl_time = ProcessOptimizerCPLEXCPLinear(pm_object=pmo, ARM_object=ARMl, objective=ProcessOptimizerCPLEXCPLinear.TIME_OBJECTIVE)\n",
    "solutions_cpl_time, generalized_solution_cpl_time = po_cpl_time(exec_file='/Applications/CPLEX_Studio221/cpoptimizer/bin/x86-64_osx/cpoptimizer') # Replace exec_file with appropriate path!!!"
   ],
   "metadata": {
    "collapsed": false,
    "pycharm": {
     "name": "#%%\n"
    }
   }
  },
  {
   "cell_type": "code",
   "execution_count": null,
   "outputs": [],
   "source": [
    "time_min_cpl_time, cost_min_cpl_time, time_max_cpl_time, cost_max_cpl_time, time_mean_cpl_time, cost_mean_cpl_time = allocation_test(generalized_solution_cpl_time, pmo, ARMl, calc_linear_model)\n",
    "print(f'Min Time: {time_min_cpl_time}\\tMin Cost: {cost_min_cpl_time}')\n",
    "print(f'Max Time: {time_max_cpl_time}\\tMax Cost: {cost_max_cpl_time}')\n",
    "print(f'Average Time: {time_mean_cpl_time}\\tAverage Cost: {cost_mean_cpl_time}')"
   ],
   "metadata": {
    "collapsed": false,
    "pycharm": {
     "name": "#%%\n"
    }
   }
  },
  {
   "cell_type": "markdown",
   "source": [
    "## Cost First Time Constraint Multi Objective"
   ],
   "metadata": {
    "collapsed": false,
    "pycharm": {
     "name": "#%% md\n"
    }
   }
  },
  {
   "cell_type": "code",
   "execution_count": null,
   "outputs": [],
   "source": [
    "po_cpl_cost_time_c = ProcessOptimizerCPLEXCPLinear(pm_object=pmo, ARM_object=ARMl, objective=ProcessOptimizerCPLEXCPLinear.MULTI_OBJECTIVE_TIME_CONSTRAINT)\n",
    "solutions_cpl_cost_time_c, generalized_solution_cpl_cost_time_c = po_cpl_cost_time_c(exec_file='/Applications/CPLEX_Studio221/cpoptimizer/bin/x86-64_osx/cpoptimizer') # Replace exec_file with appropriate path!!!"
   ],
   "metadata": {
    "collapsed": false,
    "pycharm": {
     "name": "#%%\n"
    }
   }
  },
  {
   "cell_type": "code",
   "execution_count": null,
   "outputs": [],
   "source": [
    "time_min_cpl_cost_time_c, cost_min_cpl_cost_time_c, time_max_cpl_cost_time_c, cost_max_cpl_cost_time_c, time_mean_cpl_cost_time_c, cost_mean_cpl_cost_time_c = allocation_test(generalized_solution_cpl_cost_time_c, pmo, ARMl, calc_linear_model)\n",
    "print(f'Min Time: {time_min_cpl_cost_time_c}\\tMin Cost: {cost_min_cpl_cost_time_c}')\n",
    "print(f'Max Time: {time_max_cpl_cost_time_c}\\tMax Cost: {cost_max_cpl_cost_time_c}')\n",
    "print(f'Average Time: {time_mean_cpl_cost_time_c}\\tAverage Cost: {cost_mean_cpl_cost_time_c}')"
   ],
   "metadata": {
    "collapsed": false,
    "pycharm": {
     "name": "#%%\n"
    }
   }
  },
  {
   "cell_type": "markdown",
   "source": [
    "# Constraint Programming Polynomial"
   ],
   "metadata": {
    "collapsed": false,
    "pycharm": {
     "name": "#%% md\n"
    }
   }
  },
  {
   "cell_type": "markdown",
   "source": [
    "## Cost"
   ],
   "metadata": {
    "collapsed": false,
    "pycharm": {
     "name": "#%% md\n"
    }
   }
  },
  {
   "cell_type": "code",
   "execution_count": null,
   "outputs": [],
   "source": [
    "po_cpp_cost = ProcessOptimizerCPLEXCPPolynomial(pm_object=pmo, ARM_object=ARMp)\n",
    "solutions_cpp_cost, generalized_solution_cpp_cost = po_cpp_cost(exec_file='/Applications/CPLEX_Studio221/cpoptimizer/bin/x86-64_osx/cpoptimizer') # Replace exec_file with appropriate path!!!"
   ],
   "metadata": {
    "collapsed": false,
    "pycharm": {
     "name": "#%%\n"
    }
   }
  },
  {
   "cell_type": "code",
   "execution_count": null,
   "outputs": [],
   "source": [
    "time_min_cpp_cost, cost_min_cpp_cost, time_max_cpp_cost, cost_max_cpp_cost, time_mean_cpp_cost, cost_mean_cpp_cost = allocation_test(generalized_solution_cpp_cost, pmo, ARMp, calc_polynomial_model)\n",
    "print(f'Min Time: {time_min_cpp_cost}\\tMin Cost: {cost_min_cpp_cost}')\n",
    "print(f'Max Time: {time_max_cpp_cost}\\tMax Cost: {cost_max_cpp_cost}')\n",
    "print(f'Average Time: {time_mean_cpp_cost}\\tAverage Cost: {cost_mean_cpp_cost}')"
   ],
   "metadata": {
    "collapsed": false,
    "pycharm": {
     "name": "#%%\n"
    }
   }
  },
  {
   "cell_type": "code",
   "execution_count": null,
   "outputs": [],
   "source": [
    "solutions_cpp_cost"
   ],
   "metadata": {
    "collapsed": false,
    "pycharm": {
     "name": "#%%\n"
    }
   }
  },
  {
   "cell_type": "code",
   "execution_count": null,
   "outputs": [],
   "source": [
    "generalized_solution_cpp_cost"
   ],
   "metadata": {
    "collapsed": false,
    "pycharm": {
     "name": "#%%\n"
    }
   }
  },
  {
   "cell_type": "code",
   "execution_count": null,
   "outputs": [],
   "source": [
    "ARMp.resources_allocation_allowance"
   ],
   "metadata": {
    "collapsed": false,
    "pycharm": {
     "name": "#%%\n"
    }
   }
  },
  {
   "cell_type": "markdown",
   "source": [
    "## Time"
   ],
   "metadata": {
    "collapsed": false,
    "pycharm": {
     "name": "#%% md\n"
    }
   }
  },
  {
   "cell_type": "code",
   "execution_count": null,
   "outputs": [],
   "source": [
    "po_cpp_time = ProcessOptimizerCPLEXCPPolynomial(pm_object=pmo, ARM_object=ARMp, objective=ProcessOptimizerCPLEXCPPolynomial.TIME_OBJECTIVE)\n",
    "solutions_cpp_time, generalized_solution_cpp_time = po_cpp_time(exec_file='/Applications/CPLEX_Studio221/cpoptimizer/bin/x86-64_osx/cpoptimizer') # Replace exec_file with appropriate path!!!"
   ],
   "metadata": {
    "collapsed": false,
    "pycharm": {
     "name": "#%%\n"
    }
   }
  },
  {
   "cell_type": "code",
   "execution_count": null,
   "outputs": [],
   "source": [
    "time_min_cpp_time, cost_min_cpp_time, time_max_cpp_time, cost_max_cpp_time, time_mean_cpp_time, cost_mean_cpp_time = allocation_test(generalized_solution_cpp_time, pmo, ARMp, calc_polynomial_model)\n",
    "print(f'Min Time: {time_min_cpp_time}\\tMin Cost: {cost_min_cpp_time}')\n",
    "print(f'Max Time: {time_max_cpp_time}\\tMax Cost: {cost_max_cpp_time}')\n",
    "print(f'Average Time: {time_mean_cpp_time}\\tAverage Cost: {cost_mean_cpp_time}')"
   ],
   "metadata": {
    "collapsed": false,
    "pycharm": {
     "name": "#%%\n"
    }
   }
  },
  {
   "cell_type": "markdown",
   "source": [
    "## Cost First Time Constraint Multi Objective"
   ],
   "metadata": {
    "collapsed": false,
    "pycharm": {
     "name": "#%% md\n"
    }
   }
  },
  {
   "cell_type": "code",
   "execution_count": null,
   "outputs": [],
   "source": [
    "po_cpp_cost_time_c = ProcessOptimizerCPLEXCPPolynomial(pm_object=pmo, ARM_object=ARMp, objective=ProcessOptimizerCPLEXCPPolynomial.MULTI_OBJECTIVE_TIME_CONSTRAINT, compromise_allowance=0.3)\n",
    "solutions_cpp_cost_time_c, generalized_solution_cpp_cost_time_c = po_cpp_cost_time_c(exec_file='/Applications/CPLEX_Studio221/cpoptimizer/bin/x86-64_osx/cpoptimizer') # Replace exec_file with appropriate path!!!"
   ],
   "metadata": {
    "collapsed": false,
    "pycharm": {
     "name": "#%%\n"
    }
   }
  },
  {
   "cell_type": "code",
   "execution_count": null,
   "outputs": [],
   "source": [
    "time_min_cpp_cost_time_c, cost_min_cpp_cost_time_c, time_max_cpp_cost_time_c, cost_max_cpp_cost_time_c, time_mean_cpp_cost_time_c, cost_mean_cpp_cost_time_c = allocation_test(generalized_solution_cpp_cost_time_c, pmo, ARMp, calc_polynomial_model)\n",
    "print(f'Min Time: {time_min_cpp_cost_time_c}\\tMin Cost: {cost_min_cpp_cost_time_c}')\n",
    "print(f'Max Time: {time_max_cpp_cost_time_c}\\tMax Cost: {cost_max_cpp_cost_time_c}')\n",
    "print(f'Average Time: {time_mean_cpp_cost_time_c}\\tAverage Cost: {cost_mean_cpp_cost_time_c}')"
   ],
   "metadata": {
    "collapsed": false,
    "pycharm": {
     "name": "#%%\n"
    }
   }
  },
  {
   "cell_type": "code",
   "execution_count": null,
   "outputs": [],
   "source": [
    "solutions_cpp_cost_time_c"
   ],
   "metadata": {
    "collapsed": false,
    "pycharm": {
     "name": "#%%\n"
    }
   }
  },
  {
   "cell_type": "code",
   "execution_count": null,
   "outputs": [],
   "source": [
    "generalized_solution_cpp_cost_time_c"
   ],
   "metadata": {
    "collapsed": false,
    "pycharm": {
     "name": "#%%\n"
    }
   }
  },
  {
   "cell_type": "code",
   "execution_count": null,
   "outputs": [],
   "source": [],
   "metadata": {
    "collapsed": false,
    "pycharm": {
     "name": "#%%\n"
    }
   }
  }
 ],
 "metadata": {
  "kernelspec": {
   "display_name": "Python 3",
   "language": "python",
   "name": "python3"
  },
  "language_info": {
   "codemirror_mode": {
    "name": "ipython",
    "version": 2
   },
   "file_extension": ".py",
   "mimetype": "text/x-python",
   "name": "python",
   "nbconvert_exporter": "python",
   "pygments_lexer": "ipython2",
   "version": "2.7.6"
  }
 },
 "nbformat": 4,
 "nbformat_minor": 0
}