{
 "cells": [
  {
   "cell_type": "code",
   "execution_count": 2,
   "metadata": {
    "collapsed": true
   },
   "outputs": [],
   "source": [
    "from trace_generator import *\n",
    "\n",
    "import random\n",
    "import numpy\n",
    "import pandas"
   ]
  },
  {
   "cell_type": "code",
   "execution_count": 3,
   "outputs": [],
   "source": [
    "tree = construct_random_tree(775451721, 548953530, tree_parameters={**default_tree_parameters, 'silent': 0.})"
   ],
   "metadata": {
    "collapsed": false,
    "pycharm": {
     "name": "#%%\n"
    }
   }
  },
  {
   "cell_type": "code",
   "execution_count": 4,
   "outputs": [
    {
     "data": {
      "text/plain": "    id  name                  act_limit  alloc_prob  time_mod  cost_mod  \\\n0    0   r_0                      [a_a]    0.158015 -0.010268  0.132464   \n1    1   r_1                      [a_g]    0.781009  0.216598  0.042697   \n2    2   r_2  [a_e, a_c, a_f, a_g, a_d]    0.236172 -0.063923  0.086787   \n3    3   r_3                      [a_f]    0.832822  0.216360  0.107416   \n4    4   r_4            [a_g, a_e, a_d]    0.794436 -0.292807  0.156056   \n5    5   r_5       [a_d, a_c, a_e, a_a]    0.129981  0.297535  0.114275   \n6    6   r_6                      [a_e]    0.949316  0.167332  0.188116   \n7    7   r_7            [a_d, a_a, a_f]    0.157495 -0.242720  0.077790   \n8    8   r_8                       None    0.501517  0.012107  0.393627   \n9    9   r_9                       None    0.802496  0.390332  0.345039   \n10  10  r_10                       None    0.632957 -0.500000  0.500000   \n11  11  r_11                       None    0.885364 -0.500000  0.500000   \n12  12  r_12                       None    0.349910 -0.500000  0.500000   \n13  13  r_13                       None    0.302426 -0.500000  0.500000   \n14  14  r_14                       None    0.714547  0.500000 -0.500000   \n15  15  r_15                       None    0.834851  0.500000 -0.500000   \n16  16  r_16                       None    0.399971  0.500000 -0.500000   \n17  17  r_17                       None    0.919343  0.500000 -0.500000   \n\n    threshold_time  threshold_cost  \n0              3.0             7.0  \n1              4.0             7.0  \n2              4.0             6.0  \n3              3.0             7.0  \n4              3.0             6.0  \n5              4.0             8.0  \n6              4.0             8.0  \n7              6.0             7.0  \n8              4.0             8.0  \n9              3.0             6.0  \n10             NaN             NaN  \n11             NaN             NaN  \n12             NaN             NaN  \n13             NaN             NaN  \n14             NaN             NaN  \n15             NaN             NaN  \n16             NaN             NaN  \n17             NaN             NaN  ",
      "text/html": "<div>\n<style scoped>\n    .dataframe tbody tr th:only-of-type {\n        vertical-align: middle;\n    }\n\n    .dataframe tbody tr th {\n        vertical-align: top;\n    }\n\n    .dataframe thead th {\n        text-align: right;\n    }\n</style>\n<table border=\"1\" class=\"dataframe\">\n  <thead>\n    <tr style=\"text-align: right;\">\n      <th></th>\n      <th>id</th>\n      <th>name</th>\n      <th>act_limit</th>\n      <th>alloc_prob</th>\n      <th>time_mod</th>\n      <th>cost_mod</th>\n      <th>threshold_time</th>\n      <th>threshold_cost</th>\n    </tr>\n  </thead>\n  <tbody>\n    <tr>\n      <th>0</th>\n      <td>0</td>\n      <td>r_0</td>\n      <td>[a_a]</td>\n      <td>0.158015</td>\n      <td>-0.010268</td>\n      <td>0.132464</td>\n      <td>3.0</td>\n      <td>7.0</td>\n    </tr>\n    <tr>\n      <th>1</th>\n      <td>1</td>\n      <td>r_1</td>\n      <td>[a_g]</td>\n      <td>0.781009</td>\n      <td>0.216598</td>\n      <td>0.042697</td>\n      <td>4.0</td>\n      <td>7.0</td>\n    </tr>\n    <tr>\n      <th>2</th>\n      <td>2</td>\n      <td>r_2</td>\n      <td>[a_e, a_c, a_f, a_g, a_d]</td>\n      <td>0.236172</td>\n      <td>-0.063923</td>\n      <td>0.086787</td>\n      <td>4.0</td>\n      <td>6.0</td>\n    </tr>\n    <tr>\n      <th>3</th>\n      <td>3</td>\n      <td>r_3</td>\n      <td>[a_f]</td>\n      <td>0.832822</td>\n      <td>0.216360</td>\n      <td>0.107416</td>\n      <td>3.0</td>\n      <td>7.0</td>\n    </tr>\n    <tr>\n      <th>4</th>\n      <td>4</td>\n      <td>r_4</td>\n      <td>[a_g, a_e, a_d]</td>\n      <td>0.794436</td>\n      <td>-0.292807</td>\n      <td>0.156056</td>\n      <td>3.0</td>\n      <td>6.0</td>\n    </tr>\n    <tr>\n      <th>5</th>\n      <td>5</td>\n      <td>r_5</td>\n      <td>[a_d, a_c, a_e, a_a]</td>\n      <td>0.129981</td>\n      <td>0.297535</td>\n      <td>0.114275</td>\n      <td>4.0</td>\n      <td>8.0</td>\n    </tr>\n    <tr>\n      <th>6</th>\n      <td>6</td>\n      <td>r_6</td>\n      <td>[a_e]</td>\n      <td>0.949316</td>\n      <td>0.167332</td>\n      <td>0.188116</td>\n      <td>4.0</td>\n      <td>8.0</td>\n    </tr>\n    <tr>\n      <th>7</th>\n      <td>7</td>\n      <td>r_7</td>\n      <td>[a_d, a_a, a_f]</td>\n      <td>0.157495</td>\n      <td>-0.242720</td>\n      <td>0.077790</td>\n      <td>6.0</td>\n      <td>7.0</td>\n    </tr>\n    <tr>\n      <th>8</th>\n      <td>8</td>\n      <td>r_8</td>\n      <td>None</td>\n      <td>0.501517</td>\n      <td>0.012107</td>\n      <td>0.393627</td>\n      <td>4.0</td>\n      <td>8.0</td>\n    </tr>\n    <tr>\n      <th>9</th>\n      <td>9</td>\n      <td>r_9</td>\n      <td>None</td>\n      <td>0.802496</td>\n      <td>0.390332</td>\n      <td>0.345039</td>\n      <td>3.0</td>\n      <td>6.0</td>\n    </tr>\n    <tr>\n      <th>10</th>\n      <td>10</td>\n      <td>r_10</td>\n      <td>None</td>\n      <td>0.632957</td>\n      <td>-0.500000</td>\n      <td>0.500000</td>\n      <td>NaN</td>\n      <td>NaN</td>\n    </tr>\n    <tr>\n      <th>11</th>\n      <td>11</td>\n      <td>r_11</td>\n      <td>None</td>\n      <td>0.885364</td>\n      <td>-0.500000</td>\n      <td>0.500000</td>\n      <td>NaN</td>\n      <td>NaN</td>\n    </tr>\n    <tr>\n      <th>12</th>\n      <td>12</td>\n      <td>r_12</td>\n      <td>None</td>\n      <td>0.349910</td>\n      <td>-0.500000</td>\n      <td>0.500000</td>\n      <td>NaN</td>\n      <td>NaN</td>\n    </tr>\n    <tr>\n      <th>13</th>\n      <td>13</td>\n      <td>r_13</td>\n      <td>None</td>\n      <td>0.302426</td>\n      <td>-0.500000</td>\n      <td>0.500000</td>\n      <td>NaN</td>\n      <td>NaN</td>\n    </tr>\n    <tr>\n      <th>14</th>\n      <td>14</td>\n      <td>r_14</td>\n      <td>None</td>\n      <td>0.714547</td>\n      <td>0.500000</td>\n      <td>-0.500000</td>\n      <td>NaN</td>\n      <td>NaN</td>\n    </tr>\n    <tr>\n      <th>15</th>\n      <td>15</td>\n      <td>r_15</td>\n      <td>None</td>\n      <td>0.834851</td>\n      <td>0.500000</td>\n      <td>-0.500000</td>\n      <td>NaN</td>\n      <td>NaN</td>\n    </tr>\n    <tr>\n      <th>16</th>\n      <td>16</td>\n      <td>r_16</td>\n      <td>None</td>\n      <td>0.399971</td>\n      <td>0.500000</td>\n      <td>-0.500000</td>\n      <td>NaN</td>\n      <td>NaN</td>\n    </tr>\n    <tr>\n      <th>17</th>\n      <td>17</td>\n      <td>r_17</td>\n      <td>None</td>\n      <td>0.919343</td>\n      <td>0.500000</td>\n      <td>-0.500000</td>\n      <td>NaN</td>\n      <td>NaN</td>\n    </tr>\n  </tbody>\n</table>\n</div>"
     },
     "execution_count": 4,
     "metadata": {},
     "output_type": "execute_result"
    }
   ],
   "source": [
    "import pprint\n",
    "\n",
    "def wrapper_time_func_with_rand(rand_val):\n",
    "    return lambda x: (0.5 * x + numpy.random.uniform(low=0.01, high=0.1)) if rand_val >= x else ((x - rand_val)**2 + rand_val * 0.5 + numpy.random.uniform(low=0.01, high=0.1))\n",
    "\n",
    "\n",
    "def wrapper_time_func(rand_val):\n",
    "    return lambda x: (0.5 * x) if rand_val >= x else ((x - rand_val)**2 + rand_val * 0.5)\n",
    "\n",
    "\n",
    "def wrapper_cost_func(rand_val):\n",
    "    return lambda x: (-0.1 * numpy.sqrt(x)) if rand_val >= x else (-0.1 * numpy.sqrt(rand_val))\n",
    "\n",
    "tt = 1718538115\n",
    "tt2 = 1176869713\n",
    "\n",
    "numpy.random.seed(tt)\n",
    "random.seed(tt2)\n",
    "\n",
    "tree_with_sim_properties = convert_pt_to_list_and_attach_properties(tree)\n",
    "\n",
    "numpy.random.seed(tt)\n",
    "random.seed(tt2)\n",
    "\n",
    "activities_list = get_element_from_pt(tree_with_sim_properties, prefix='a_')\n",
    "\n",
    "modelled_activities_list = generate_activity_simulation_values(\n",
    "    activities_list,\n",
    "    time_modifier_function=[lambda x: (0.5 / x) - 0.5, lambda x: numpy.power(x, 0.25) - 1],\n",
    "    time_modifier_function_probability_distribution=[2/3, 1/3],\n",
    "    # time_modifier_function_probability_distribution=None,\n",
    "    cost_modifier_function=[lambda x: -0.05 * numpy.power(x, 1.25), lambda x: -0.15 * numpy.power(x, 1.5)],\n",
    "    # cost_modifier_function=None,\n",
    "    cost_modifier_function_probability_distribution=[4/5, 1/5]\n",
    ")\n",
    "\n",
    "time_modifier_rand_vals = dict()\n",
    "for i in range(0, len(activities_list)):\n",
    "    rand_val = numpy.random.randint(low=3, high=7)\n",
    "    time_modifier_rand_vals[wrapper_time_func(rand_val)] = rand_val\n",
    "\n",
    "cost_modifier_rand_vals = dict()\n",
    "for i in range(0, len(activities_list)):\n",
    "    rand_val = numpy.random.randint(low=5, high=10)\n",
    "    cost_modifier_rand_vals[wrapper_cost_func(rand_val)] = rand_val\n",
    "\n",
    "modelled_resources_list = generate_resources_simulation_values(\n",
    "    activities_list,\n",
    "    resources_limited_to_activities='s',\n",
    "    apply_jack_of_all_trades_penalty=True,\n",
    "    time_modifier_function=list(time_modifier_rand_vals.keys()),\n",
    "    cost_modifier_function=list(cost_modifier_rand_vals.keys())\n",
    ")\n",
    "\n",
    "# Resources which are better at time efficiency but worse for cost.\n",
    "modelled_resources_list += generate_resources_simulation_values(\n",
    "    activities_list,\n",
    "    start_resource_iter=len(modelled_resources_list),\n",
    "    min_resources=2,\n",
    "    max_resources=4,\n",
    "    min_time_base_modifier=-0.5,\n",
    "    max_time_base_modifier=-0.5,\n",
    "    min_cost_base_modifier=0.5,\n",
    "    max_cost_base_modifier=0.5,\n",
    "    apply_jack_of_all_trades_penalty=False,\n",
    "    resources_limited_to_activities='n',\n",
    "    time_modifier_function=[lambda x: 0.1 * numpy.sqrt(x)],\n",
    "    cost_modifier_function=[lambda x: -0.2 * numpy.sqrt(x)]\n",
    ")\n",
    "\n",
    "# Resources which are better at cost efficiency but worse for time.\n",
    "modelled_resources_list += generate_resources_simulation_values(\n",
    "    activities_list,\n",
    "    start_resource_iter=len(modelled_resources_list),\n",
    "    min_resources=2,\n",
    "    max_resources=4,\n",
    "    min_time_base_modifier=0.5,\n",
    "    max_time_base_modifier=0.5,\n",
    "    min_cost_base_modifier=-0.5,\n",
    "    max_cost_base_modifier=-0.5,\n",
    "    apply_jack_of_all_trades_penalty=False,\n",
    "    resources_limited_to_activities='n',\n",
    "    time_modifier_function=[lambda x: 0.1 * x**2],\n",
    "    cost_modifier_function=[lambda x: -0.01 * numpy.sqrt(x)]\n",
    ")\n",
    "\n",
    "modelled_resources_list_dict = list()\n",
    "for res in modelled_resources_list:\n",
    "    modelled_resources_list_dict.append({\n",
    "        'id': res[0],\n",
    "        'name': res[1],\n",
    "        'act_limit': res[2],\n",
    "        'alloc_prob': res[3],\n",
    "        'time_mod': res[4],\n",
    "        'time_f': res[5],\n",
    "        'cost_mod': res[6],\n",
    "        'cost_f': res[7],\n",
    "        'threshold_time': time_modifier_rand_vals[res[5]] if res[5] in time_modifier_rand_vals else None,\n",
    "        'threshold_cost': cost_modifier_rand_vals[res[7]] if res[7] in cost_modifier_rand_vals else None\n",
    "    })\n",
    "\n",
    "pandas.DataFrame(data=modelled_resources_list_dict).drop(columns=['time_f', 'cost_f'])"
   ],
   "metadata": {
    "collapsed": false,
    "pycharm": {
     "name": "#%%\n"
    }
   }
  },
  {
   "cell_type": "code",
   "execution_count": null,
   "outputs": [],
   "source": [],
   "metadata": {
    "collapsed": false,
    "pycharm": {
     "name": "#%%\n"
    }
   }
  }
 ],
 "metadata": {
  "kernelspec": {
   "display_name": "Python 3",
   "language": "python",
   "name": "python3"
  },
  "language_info": {
   "codemirror_mode": {
    "name": "ipython",
    "version": 2
   },
   "file_extension": ".py",
   "mimetype": "text/x-python",
   "name": "python",
   "nbconvert_exporter": "python",
   "pygments_lexer": "ipython2",
   "version": "2.7.6"
  }
 },
 "nbformat": 4,
 "nbformat_minor": 0
}