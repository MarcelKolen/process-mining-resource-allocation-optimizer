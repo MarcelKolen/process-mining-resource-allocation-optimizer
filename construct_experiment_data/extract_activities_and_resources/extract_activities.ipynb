{
 "cells": [
  {
   "cell_type": "code",
   "execution_count": 7,
   "metadata": {
    "collapsed": true
   },
   "outputs": [],
   "source": [
    "import pandas\n",
    "\n",
    "from trace_generator import *\n",
    "\n",
    "import random\n",
    "import numpy"
   ]
  },
  {
   "cell_type": "code",
   "execution_count": 8,
   "outputs": [],
   "source": [
    "tree_name = 'large_combinatory'\n",
    "num_cases = 5000"
   ],
   "metadata": {
    "collapsed": false,
    "pycharm": {
     "name": "#%%\n"
    }
   }
  },
  {
   "cell_type": "code",
   "execution_count": 9,
   "outputs": [],
   "source": [
    "tree = construct_random_tree(1961566938, 1753279626, tree_parameters={'min': 8, 'max': 16, 'mode': 12, 'silent': 0.})"
   ],
   "metadata": {
    "collapsed": false,
    "pycharm": {
     "name": "#%%\n"
    }
   }
  },
  {
   "cell_type": "code",
   "execution_count": 10,
   "outputs": [],
   "source": [
    "tt = 1383974871\n",
    "tt2 = 1316528754\n",
    "\n",
    "numpy.random.seed(tt)\n",
    "random.seed(tt2)\n",
    "\n",
    "tree_with_sim_properties = convert_pt_to_list_and_attach_properties(tree)\n",
    "\n",
    "numpy.random.seed(tt)\n",
    "random.seed(tt2)\n",
    "\n",
    "modelled_activities_list = generate_activity_simulation_values(\n",
    "    get_element_from_pt(tree_with_sim_properties, prefix='a_'),\n",
    "    time_modifier_function=[lambda x: (0.5 / x) - 0.5, lambda x: numpy.power(x, 0.25) - 1],\n",
    "    time_modifier_function_probability_distribution=[2/3, 1/3],\n",
    "    # time_modifier_function_probability_distribution=None,\n",
    "    cost_modifier_function=[lambda x: -0.05 * numpy.power(x, 1.25), lambda x: -0.15 * numpy.power(x, 1.5)],\n",
    "    # cost_modifier_function=None,\n",
    "    cost_modifier_function_probability_distribution=[4/5, 1/5]\n",
    ")"
   ],
   "metadata": {
    "collapsed": false,
    "pycharm": {
     "name": "#%%\n"
    }
   }
  },
  {
   "cell_type": "code",
   "execution_count": 11,
   "outputs": [
    {
     "data": {
      "text/plain": "   act      b_time      b_cost\n0  a_a  291.294408  364.146898\n1  a_b  627.177789  286.452209\n2  a_c  347.188747  518.012994\n3  a_d   54.081412  803.980063\n4  a_e  438.083778  881.698995\n5  a_f  437.616709  808.366079\n6  a_g  463.311297  116.840239\n7  a_h  922.852419  331.143540\n8  a_i  424.435320  262.925505\n9  a_j  827.305083   14.529915",
      "text/html": "<div>\n<style scoped>\n    .dataframe tbody tr th:only-of-type {\n        vertical-align: middle;\n    }\n\n    .dataframe tbody tr th {\n        vertical-align: top;\n    }\n\n    .dataframe thead th {\n        text-align: right;\n    }\n</style>\n<table border=\"1\" class=\"dataframe\">\n  <thead>\n    <tr style=\"text-align: right;\">\n      <th></th>\n      <th>act</th>\n      <th>b_time</th>\n      <th>b_cost</th>\n    </tr>\n  </thead>\n  <tbody>\n    <tr>\n      <th>0</th>\n      <td>a_a</td>\n      <td>291.294408</td>\n      <td>364.146898</td>\n    </tr>\n    <tr>\n      <th>1</th>\n      <td>a_b</td>\n      <td>627.177789</td>\n      <td>286.452209</td>\n    </tr>\n    <tr>\n      <th>2</th>\n      <td>a_c</td>\n      <td>347.188747</td>\n      <td>518.012994</td>\n    </tr>\n    <tr>\n      <th>3</th>\n      <td>a_d</td>\n      <td>54.081412</td>\n      <td>803.980063</td>\n    </tr>\n    <tr>\n      <th>4</th>\n      <td>a_e</td>\n      <td>438.083778</td>\n      <td>881.698995</td>\n    </tr>\n    <tr>\n      <th>5</th>\n      <td>a_f</td>\n      <td>437.616709</td>\n      <td>808.366079</td>\n    </tr>\n    <tr>\n      <th>6</th>\n      <td>a_g</td>\n      <td>463.311297</td>\n      <td>116.840239</td>\n    </tr>\n    <tr>\n      <th>7</th>\n      <td>a_h</td>\n      <td>922.852419</td>\n      <td>331.143540</td>\n    </tr>\n    <tr>\n      <th>8</th>\n      <td>a_i</td>\n      <td>424.435320</td>\n      <td>262.925505</td>\n    </tr>\n    <tr>\n      <th>9</th>\n      <td>a_j</td>\n      <td>827.305083</td>\n      <td>14.529915</td>\n    </tr>\n  </tbody>\n</table>\n</div>"
     },
     "execution_count": 11,
     "metadata": {},
     "output_type": "execute_result"
    }
   ],
   "source": [
    "pandas.DataFrame(data=[{'act':act_setup[1], 'b_time':act_setup[2], 'b_cost':act_setup[4]} for act_setup in modelled_activities_list])"
   ],
   "metadata": {
    "collapsed": false,
    "pycharm": {
     "name": "#%%\n"
    }
   }
  },
  {
   "cell_type": "code",
   "execution_count": null,
   "outputs": [],
   "source": [],
   "metadata": {
    "collapsed": false,
    "pycharm": {
     "name": "#%%\n"
    }
   }
  }
 ],
 "metadata": {
  "kernelspec": {
   "display_name": "Python 3",
   "language": "python",
   "name": "python3"
  },
  "language_info": {
   "codemirror_mode": {
    "name": "ipython",
    "version": 2
   },
   "file_extension": ".py",
   "mimetype": "text/x-python",
   "name": "python",
   "nbconvert_exporter": "python",
   "pygments_lexer": "ipython2",
   "version": "2.7.6"
  }
 },
 "nbformat": 4,
 "nbformat_minor": 0
}