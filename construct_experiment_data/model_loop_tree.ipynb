{
 "cells": [
  {
   "cell_type": "code",
   "execution_count": null,
   "metadata": {
    "collapsed": true
   },
   "outputs": [],
   "source": [
    "import pandas\n",
    "\n",
    "from trace_generator import *\n",
    "from experiment_setup import create_experiment_traces\n",
    "\n",
    "import random\n",
    "import numpy\n",
    "import time"
   ]
  },
  {
   "cell_type": "code",
   "execution_count": null,
   "outputs": [],
   "source": [
    "tree_name = 'loops_only'\n",
    "num_cases = 2000"
   ],
   "metadata": {
    "collapsed": false,
    "pycharm": {
     "name": "#%%\n"
    }
   }
  },
  {
   "cell_type": "code",
   "execution_count": null,
   "outputs": [],
   "source": [
    "# tt = int(random.randint(0, 2000000000))\n",
    "# tt2 = int(random.randint(0, 2000000000))\n",
    "#\n",
    "# print(tt)\n",
    "# print(tt2)\n",
    "tree = construct_random_tree(4674, 6666, tree_parameters={**default_tree_parameters, 'silent': 0., 'choice': 0., 'parallel': 0.})"
   ],
   "metadata": {
    "collapsed": false,
    "pycharm": {
     "name": "#%%\n"
    }
   }
  },
  {
   "cell_type": "code",
   "execution_count": null,
   "outputs": [],
   "source": [
    "show_tree(tree)"
   ],
   "metadata": {
    "collapsed": false,
    "pycharm": {
     "name": "#%%\n"
    }
   }
  },
  {
   "cell_type": "code",
   "execution_count": null,
   "outputs": [],
   "source": [
    "random.seed(time.time())\n",
    "tt = int(random.randint(0, 2000000000))\n",
    "tt2 = int(random.randint(0, 2000000000))\n",
    "print(tt)\n",
    "print(tt2)\n",
    "\n",
    "numpy.random.seed(tt)\n",
    "random.seed(tt2)\n",
    "\n",
    "tree_with_sim_properties = convert_pt_to_list_and_attach_properties(tree)\n",
    "tree_with_sim_properties"
   ],
   "metadata": {
    "collapsed": false,
    "pycharm": {
     "name": "#%%\n"
    }
   }
  },
  {
   "cell_type": "code",
   "execution_count": null,
   "outputs": [],
   "source": [
    "seed_0 = [827811881, 78488783, 751954824]\n",
    "seed_1 = [892884050, 571064686, 113944411]"
   ],
   "metadata": {
    "collapsed": false,
    "pycharm": {
     "name": "#%%\n"
    }
   }
  },
  {
   "cell_type": "code",
   "execution_count": null,
   "outputs": [],
   "source": [
    "create_experiment_traces(\n",
    "    seed_0,\n",
    "    seed_1,\n",
    "    '../experiment_data/',\n",
    "    tree_name,\n",
    "    tree,\n",
    "    num_cases\n",
    ")"
   ],
   "metadata": {
    "collapsed": false,
    "pycharm": {
     "name": "#%%\n"
    }
   }
  },
  {
   "cell_type": "code",
   "execution_count": null,
   "outputs": [],
   "source": [],
   "metadata": {
    "collapsed": false,
    "pycharm": {
     "name": "#%%\n"
    }
   }
  }
 ],
 "metadata": {
  "kernelspec": {
   "display_name": "Python 3",
   "language": "python",
   "name": "python3"
  },
  "language_info": {
   "codemirror_mode": {
    "name": "ipython",
    "version": 2
   },
   "file_extension": ".py",
   "mimetype": "text/x-python",
   "name": "python",
   "nbconvert_exporter": "python",
   "pygments_lexer": "ipython2",
   "version": "2.7.6"
  }
 },
 "nbformat": 4,
 "nbformat_minor": 0
}