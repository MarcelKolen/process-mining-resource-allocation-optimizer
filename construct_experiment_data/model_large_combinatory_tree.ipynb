{
 "cells": [
  {
   "cell_type": "code",
   "execution_count": null,
   "outputs": [],
   "source": [
    "from trace_generator import *\n",
    "from experiment_setup import create_experiment_traces\n",
    "\n",
    "import random\n",
    "import numpy\n",
    "import time"
   ],
   "metadata": {
    "collapsed": false,
    "pycharm": {
     "name": "#%%\n"
    }
   }
  },
  {
   "cell_type": "code",
   "execution_count": null,
   "outputs": [],
   "source": [
    "tree_name = 'large_combinatory'\n",
    "num_cases = 5000"
   ],
   "metadata": {
    "collapsed": false,
    "pycharm": {
     "name": "#%%\n"
    }
   }
  },
  {
   "cell_type": "code",
   "execution_count": null,
   "outputs": [],
   "source": [
    "# tt = int(random.randint(0, 2000000000))\n",
    "# tt2 = int(random.randint(0, 2000000000))\n",
    "#\n",
    "# print(tt)\n",
    "# print(tt2)\n",
    "tree = construct_random_tree(1961566938, 1753279626, tree_parameters={'min': 8, 'max': 16, 'mode': 12, 'silent': 0.})"
   ],
   "metadata": {
    "collapsed": false,
    "pycharm": {
     "name": "#%%\n"
    }
   }
  },
  {
   "cell_type": "code",
   "execution_count": null,
   "outputs": [],
   "source": [
    "show_tree(tree)"
   ],
   "metadata": {
    "collapsed": false,
    "pycharm": {
     "name": "#%%\n"
    }
   }
  },
  {
   "cell_type": "code",
   "execution_count": null,
   "outputs": [],
   "source": [
    "random.seed(time.time())\n",
    "tt = int(random.randint(0, 2000000000))\n",
    "tt2 = int(random.randint(0, 2000000000))\n",
    "print(tt)\n",
    "print(tt2)\n",
    "\n",
    "numpy.random.seed(tt)\n",
    "random.seed(tt2)\n",
    "\n",
    "tree_with_sim_properties = convert_pt_to_list_and_attach_properties(tree)\n",
    "tree_with_sim_properties"
   ],
   "metadata": {
    "collapsed": false,
    "pycharm": {
     "name": "#%%\n"
    }
   }
  },
  {
   "cell_type": "code",
   "execution_count": null,
   "outputs": [],
   "source": [
    "seed_0 = [1602080410, 1235104103, 1383974871]\n",
    "seed_1 = [648465147, 925448569, 1316528754]"
   ],
   "metadata": {
    "collapsed": false,
    "pycharm": {
     "name": "#%%\n"
    }
   }
  },
  {
   "cell_type": "code",
   "execution_count": null,
   "outputs": [],
   "source": [
    "create_experiment_traces(\n",
    "    seed_0,\n",
    "    seed_1,\n",
    "    '../experiment_data/',\n",
    "    tree_name,\n",
    "    tree,\n",
    "    num_cases\n",
    ")"
   ],
   "metadata": {
    "collapsed": false,
    "pycharm": {
     "name": "#%%\n"
    }
   }
  },
  {
   "cell_type": "code",
   "execution_count": null,
   "outputs": [],
   "source": [],
   "metadata": {
    "collapsed": false,
    "pycharm": {
     "name": "#%%\n"
    }
   }
  }
 ],
 "metadata": {
  "kernelspec": {
   "display_name": "Python 3",
   "language": "python",
   "name": "python3"
  },
  "language_info": {
   "codemirror_mode": {
    "name": "ipython",
    "version": 2
   },
   "file_extension": ".py",
   "mimetype": "text/x-python",
   "name": "python",
   "nbconvert_exporter": "python",
   "pygments_lexer": "ipython2",
   "version": "2.7.6"
  }
 },
 "nbformat": 4,
 "nbformat_minor": 0
}