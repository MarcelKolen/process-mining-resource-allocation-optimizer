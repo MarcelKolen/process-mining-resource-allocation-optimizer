{
 "cells": [
  {
   "cell_type": "code",
   "execution_count": null,
   "metadata": {
    "collapsed": true
   },
   "outputs": [],
   "source": [
    "from trace_generator import *\n",
    "import pandas\n",
    "import random\n",
    "import numpy"
   ]
  },
  {
   "cell_type": "code",
   "execution_count": null,
   "outputs": [],
   "source": [
    "tree = construct_random_tree(4674, 6666, tree_parameters={'min': 3, 'max': 6, 'mode': 4})"
   ],
   "metadata": {
    "collapsed": false,
    "pycharm": {
     "name": "#%%\n"
    }
   }
  },
  {
   "cell_type": "code",
   "execution_count": null,
   "outputs": [],
   "source": [
    "show_tree(tree)"
   ],
   "metadata": {
    "collapsed": false,
    "pycharm": {
     "name": "#%%\n"
    }
   }
  },
  {
   "cell_type": "code",
   "execution_count": null,
   "outputs": [],
   "source": [
    "import time\n",
    "tt = int(time.time())\n",
    "tt2 = int(time.time())\n",
    "print(tt)\n",
    "print(tt2)\n",
    "\n",
    "# numpy.random.seed(tt)\n",
    "# random.seed(tt)\n",
    "numpy.random.seed(1660384210)\n",
    "random.seed(1660384210)\n",
    "\n",
    "tree_with_sim_properties = convert_pt_to_list_and_attach_properties(tree, max_loop_depth=10)\n",
    "tree_with_sim_properties"
   ],
   "metadata": {
    "collapsed": false,
    "pycharm": {
     "name": "#%%\n"
    }
   }
  },
  {
   "cell_type": "code",
   "execution_count": null,
   "outputs": [],
   "source": [
    "numpy.random.seed(1660384210)\n",
    "random.seed(1660384210)\n",
    "\n",
    "activities_list = get_element_from_pt(tree_with_sim_properties, prefix='a_')\n",
    "\n",
    "modelled_activities_list = generate_activity_simulation_values(\n",
    "    activities_list,\n",
    "    time_modifier_function=[lambda x: (0.5 / x) - 0.5, lambda x: numpy.power(x, 0.25) - 1],\n",
    "    time_modifier_function_probability_distribution=[2/3, 1/3],\n",
    "    # time_modifier_function_probability_distribution=None,\n",
    "    cost_modifier_function=[lambda x: -0.05 * numpy.power(x, 1.25), lambda x: -0.15 * numpy.power(x, 1.5)],\n",
    "    # cost_modifier_function=None,\n",
    "    cost_modifier_function_probability_distribution=[4/5, 1/5]\n",
    ")\n",
    "\n",
    "wrapper_time_func = lambda rand_val: lambda x: 0.5 * x + numpy.random.uniform(low=0.01, high=0.1) if rand_val >= x else (x - rand_val)**2 + rand_val * 0.5 + numpy.random.uniform(low=0.01, high=0.1)\n",
    "wrapper_cost_func = lambda rand_val: lambda x: -0.1 * numpy.sqrt(x) if rand_val >= x else -0.1 * numpy.sqrt(rand_val)\n",
    "\n",
    "# Average resources\n",
    "modelled_resources_list = generate_resources_simulation_values(\n",
    "    activities_list,\n",
    "    min_resources=2,\n",
    "    max_resources=2,\n",
    "    resources_limited_to_activities='s',\n",
    "    apply_jack_of_all_trades_penalty=True,\n",
    "    time_modifier_function=[wrapper_time_func(numpy.random.randint(low=3, high=7)) for i in range(0, len(activities_list))],\n",
    "    cost_modifier_function=[wrapper_cost_func(numpy.random.randint(low=5, high=10)) for i in range(0, len(activities_list))]\n",
    ")\n",
    "\n",
    "# Resources which are better at time efficiency but worse for cost.\n",
    "modelled_resources_list += generate_resources_simulation_values(\n",
    "    activities_list,\n",
    "    start_resource_iter=len(modelled_resources_list),\n",
    "    min_resources=2,\n",
    "    max_resources=2,\n",
    "    min_time_base_modifier=-0.5,\n",
    "    max_time_base_modifier=-0.5,\n",
    "    min_cost_base_modifier=0.5,\n",
    "    max_cost_base_modifier=0.5,\n",
    "    apply_jack_of_all_trades_penalty=False,\n",
    "    resources_limited_to_activities='n',\n",
    "    time_modifier_function=[lambda x: 0.1 * numpy.sqrt(x)],\n",
    "    cost_modifier_function=[lambda x: -0.2 * numpy.sqrt(x)]\n",
    ")\n",
    "\n",
    "# Resources which are better at cost efficiency but worse for time.\n",
    "modelled_resources_list += generate_resources_simulation_values(\n",
    "    activities_list,\n",
    "    start_resource_iter=len(modelled_resources_list),\n",
    "    min_resources=2,\n",
    "    max_resources=2,\n",
    "    min_time_base_modifier=0.5,\n",
    "    max_time_base_modifier=0.5,\n",
    "    min_cost_base_modifier=-0.5,\n",
    "    max_cost_base_modifier=-0.5,\n",
    "    apply_jack_of_all_trades_penalty=False,\n",
    "    resources_limited_to_activities='n',\n",
    "    time_modifier_function=[lambda x: 0.1 * x**2],\n",
    "    cost_modifier_function=[lambda x: -0.01 * numpy.sqrt(x)]\n",
    ")\n",
    "\n",
    "traces = generate_traces(\n",
    "    tree_with_sim_properties=tree_with_sim_properties,\n",
    "    modelled_resources=modelled_resources_list,\n",
    "    modelled_activities=modelled_activities_list\n",
    ")"
   ],
   "metadata": {
    "collapsed": false,
    "pycharm": {
     "name": "#%%\n"
    }
   }
  },
  {
   "cell_type": "code",
   "execution_count": null,
   "outputs": [],
   "source": [
    "pandas.DataFrame(traces).to_excel('model_pareto_trace.xlsx')"
   ],
   "metadata": {
    "collapsed": false,
    "pycharm": {
     "name": "#%%\n"
    }
   }
  },
  {
   "cell_type": "code",
   "execution_count": null,
   "outputs": [],
   "source": [],
   "metadata": {
    "collapsed": false,
    "pycharm": {
     "name": "#%%\n"
    }
   }
  }
 ],
 "metadata": {
  "kernelspec": {
   "display_name": "Python 3",
   "language": "python",
   "name": "python3"
  },
  "language_info": {
   "codemirror_mode": {
    "name": "ipython",
    "version": 2
   },
   "file_extension": ".py",
   "mimetype": "text/x-python",
   "name": "python",
   "nbconvert_exporter": "python",
   "pygments_lexer": "ipython2",
   "version": "2.7.6"
  }
 },
 "nbformat": 4,
 "nbformat_minor": 0
}